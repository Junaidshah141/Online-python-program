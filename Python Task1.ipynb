{
 "cells": [
  {
   "cell_type": "raw",
   "metadata": {},
   "source": [
    "1) A company decided to give bonus of 5% to employee if his/her year of service is more than 5 years.\n",
    "Ask user for their salary and year of service and print the net bonus amount."
   ]
  },
  {
   "cell_type": "code",
   "execution_count": 2,
   "metadata": {},
   "outputs": [
    {
     "name": "stdout",
     "output_type": "stream",
     "text": [
      "Enter your name: ali\n",
      "Enter your salary: 10000\n",
      "Enter no. of year of your services: 6\n",
      "Your Bonus amount is: 500.0\n"
     ]
    }
   ],
   "source": [
    "emplyee = input(\"Enter your name: \")\n",
    "emp_salary = int(input(\"Enter your salary: \"))\n",
    "service_year = int(input(\"Enter no. of year of your services: \"))\n",
    "\n",
    "bonus = (emp_salary*5/100)\n",
    "\n",
    "if service_year > 5:\n",
    "    print(f\"Your Bonus amount is: {bonus}\")\n",
    "else:\n",
    "    print(\"You are not eligible for bonus\")"
   ]
  },
  {
   "cell_type": "markdown",
   "metadata": {},
   "source": [
    "\n",
    "2) Write a program to check whether a person is eligible for voting or not. (accept age from user)"
   ]
  },
  {
   "cell_type": "code",
   "execution_count": 1,
   "metadata": {},
   "outputs": [
    {
     "name": "stdout",
     "output_type": "stream",
     "text": [
      "Enter your name: Sajid\n",
      "Enter your age: 13\n",
      "You are not eligible untill your age would not become 18!\n"
     ]
    }
   ],
   "source": [
    "name = input(\"Enter your name: \")\n",
    "age = int(input(\"Enter your age: \"))\n",
    "\n",
    "if age >= 18:\n",
    "    print(\"You are eligible for vote\")\n",
    "else:\n",
    "    print(\"You are not eligible untill your age would not become 18!\")"
   ]
  },
  {
   "cell_type": "markdown",
   "metadata": {},
   "source": [
    "\n",
    "3) Write a program to check whether a number entered by user is even or odd."
   ]
  },
  {
   "cell_type": "code",
   "execution_count": 3,
   "metadata": {},
   "outputs": [
    {
     "name": "stdout",
     "output_type": "stream",
     "text": [
      "Enter any number you want to check: 12\n",
      " 12 is an even number\n"
     ]
    }
   ],
   "source": [
    "num = int(input(\"Enter any number you want to check: \"))\n",
    "\n",
    "if num % 2 == 0:\n",
    "    print(f\" {num} is an even number\")\n",
    "else:\n",
    "    print(f\" {num} is an odd num\")"
   ]
  },
  {
   "cell_type": "markdown",
   "metadata": {},
   "source": [
    "4) Write a program to check whether a number is divisible by 7 or not.\n",
    "Show Answer"
   ]
  },
  {
   "cell_type": "code",
   "execution_count": 5,
   "metadata": {},
   "outputs": [
    {
     "name": "stdout",
     "output_type": "stream",
     "text": [
      "Enter any number you want to check: 56\n",
      "yes, 56 is divisible by 7\n"
     ]
    }
   ],
   "source": [
    "num1 = int(input(\"Enter any number you want to check: \"))\n",
    "\n",
    "if num1 % 7 == 0:\n",
    "    print(f\"yes, {num1} is divisible by 7\")\n",
    "else:\n",
    "    print(f\"The {num1} is not dividible by 7\")"
   ]
  },
  {
   "cell_type": "raw",
   "metadata": {},
   "source": [
    "Q7. Write a program to display \n",
    "\"Hello\" if a number entered by user is a multiple of five , otherwise print \"Bye\"."
   ]
  },
  {
   "cell_type": "code",
   "execution_count": 7,
   "metadata": {},
   "outputs": [
    {
     "name": "stdout",
     "output_type": "stream",
     "text": [
      "Enter any number you want to check: 78\n",
      "Bye\n"
     ]
    }
   ],
   "source": [
    "num2 = int(input(\"Enter any number you want to check: \"))\n",
    "\n",
    "if num2 % 5 == 0:\n",
    "    print(\"Hello\")\n",
    "else:\n",
    "    print(\"Bye\")"
   ]
  },
  {
   "cell_type": "raw",
   "metadata": {},
   "source": [
    "\n",
    "Q8. Write a program to calculate the electricity bill (accept number of unit from user) according to the following criteria :\n",
    "             Unit                                                     Price  \n",
    "First 100 units                                               no charge\n",
    "Next 100 units                                              Rs 5 per unit\n",
    "After 200 units                                             Rs 10 per unit\n",
    "(For example if input unit is 350 than total bill amount is Rs2000)"
   ]
  },
  {
   "cell_type": "code",
   "execution_count": 9,
   "metadata": {},
   "outputs": [
    {
     "name": "stdout",
     "output_type": "stream",
     "text": [
      "Enter number of units of bill: 350\n",
      "Your bill is 3500\n"
     ]
    }
   ],
   "source": [
    "units = int(input(\"Enter number of units of bill: \"))\n",
    "\n",
    "if units <= 100: \n",
    "    print(\"No, charges on you!\")\n",
    "elif units > 100 and units <=200:\n",
    "    units = units*5\n",
    "    print(f\"Your bill is {units}\")\n",
    "elif units > 200 :\n",
    "    units = units*10\n",
    "    print(f\"Your bill is {units}\")\n",
    "    \n",
    "else:\n",
    "    print(\"You have enterd something wrong\")\n",
    "    "
   ]
  },
  {
   "cell_type": "raw",
   "metadata": {},
   "source": [
    "Write a program to display the last digit of a number.\n",
    "(hint : any number % 10 will return the last digit)"
   ]
  },
  {
   "cell_type": "code",
   "execution_count": 10,
   "metadata": {},
   "outputs": [
    {
     "name": "stdout",
     "output_type": "stream",
     "text": [
      "Enter any number you want to check: 2342534\n",
      "The last digit is 4\n"
     ]
    }
   ],
   "source": [
    "num3 = int(input(\"Enter any number you want to check: \"))\n",
    "\n",
    "num3 = num3 % 10\n",
    "print(f\"The last digit is {num3}\")"
   ]
  },
  {
   "cell_type": "raw",
   "metadata": {},
   "source": [
    "\n",
    "Q10. Write a program to check whether the last digit of a number( entered by user ) is \n",
    "divisible by 3 or not."
   ]
  },
  {
   "cell_type": "code",
   "execution_count": 11,
   "metadata": {},
   "outputs": [
    {
     "name": "stdout",
     "output_type": "stream",
     "text": [
      "Enter any number you want to check: 342453655679\n",
      "The last digit is 9\n",
      "Yes 9 is divisible by 3\n"
     ]
    }
   ],
   "source": [
    "num3 = int(input(\"Enter any number you want to check: \"))\n",
    "\n",
    "num3 = num3 % 10\n",
    "print(f\"The last digit is {num3}\")\n",
    "\n",
    "if num3 % 3 == 0:\n",
    "    print(f\"Yes {num3} is divisible by 3\")\n",
    "else:\n",
    "     print(f\"No {num3} is not divisible by 3\")"
   ]
  },
  {
   "cell_type": "raw",
   "metadata": {},
   "source": [
    "11) Take values of length and breadth of a rectangle from user and check if it is square or not."
   ]
  },
  {
   "cell_type": "code",
   "execution_count": 5,
   "metadata": {},
   "outputs": [
    {
     "name": "stdout",
     "output_type": "stream",
     "text": [
      "Enter lenght: 16\n",
      "Enter breadth: 16\n",
      "Yes!, its square\n"
     ]
    }
   ],
   "source": [
    "lenght = float(input(\"Enter lenght: \"))\n",
    "breadth = float(input(\"Enter breadth: \"))\n",
    "             \n",
    "if lenght == breadth:\n",
    "    print(\"Yes!, its square\")\n",
    "else:\n",
    "    print(\"No its a rectangle\")"
   ]
  },
  {
   "cell_type": "raw",
   "metadata": {},
   "source": [
    "12) Take two int values from user and print greatest among them."
   ]
  },
  {
   "cell_type": "code",
   "execution_count": 6,
   "metadata": {},
   "outputs": [
    {
     "name": "stdout",
     "output_type": "stream",
     "text": [
      "ENter first value: 67\n",
      "Enter second value: 87\n",
      "87 is Greatest\n"
     ]
    }
   ],
   "source": [
    "val1 = int(input(\"ENter first value: \"))\n",
    "val2 = int(input(\"Enter second value: \"))\n",
    "\n",
    "if val1 > val2:\n",
    "    print(f\"{val1} is Greatest\")\n",
    "else:\n",
    "    print(f\"{val2} is Greatest\")"
   ]
  },
  {
   "cell_type": "raw",
   "metadata": {},
   "source": [
    "14) A shop will give discount of 10% if the cost of purchased quantity is more than 1000.\n",
    "Ask user for quantity\n",
    "Suppose, one unit will cost 100.\n",
    "Judge and print total cost for user."
   ]
  },
  {
   "cell_type": "code",
   "execution_count": 10,
   "metadata": {},
   "outputs": [
    {
     "name": "stdout",
     "output_type": "stream",
     "text": [
      "Enter quantity: 8\n",
      "The cost is:   800\n"
     ]
    }
   ],
   "source": [
    "quantity = int(input(\"Enter quantity: \"))\n",
    "\n",
    "if quantity*100 > 1000:\n",
    "    cost = (quantity*100)-(.1*quantity*100)\n",
    "    print(f\"The discounted cost is: {cost} \")\n",
    "else:\n",
    "    print(f\"The cost is:  \",quantity*100)\n"
   ]
  },
  {
   "cell_type": "raw",
   "metadata": {},
   "source": [
    "15) A school has following rules for grading system:\n",
    "\n",
    "a. Below 25 - F\n",
    "\n",
    "b. 25 to 45 - E\n",
    "\n",
    "c. 45 to 50 - D\n",
    "\n",
    "d. 50 to 60 - C\n",
    "\n",
    "e. 60 to 80 - B\n",
    "\n",
    "f. Above 80 - A\n",
    "\n",
    "Ask user to enter marks and print the corresponding grade."
   ]
  },
  {
   "cell_type": "code",
   "execution_count": 14,
   "metadata": {},
   "outputs": [
    {
     "name": "stdout",
     "output_type": "stream",
     "text": [
      "Enter total marks: 850\n",
      "Enter obtained marks: 635\n",
      "The Grade is B\n"
     ]
    }
   ],
   "source": [
    "total_marks = int(input(\"Enter total marks: \"))\n",
    "obt_marks = int(input(\"Enter obtained marks: \"))\n",
    "\n",
    "percentage = obt_marks*100/total_marks\n",
    "\n",
    "if percentage<25:\n",
    "      print(\"The Grade is F\")\n",
    "elif percentage>=25 and percentage<45:\n",
    "      print(\"The Grade is E\")\n",
    "elif percentage>=45 and percentage<50:\n",
    "      print(\"The Grade is D\")\n",
    "elif percentage>=50 and percentage<60:\n",
    "      print(\"The Grade is C\")\n",
    "elif percentage>=60 and percentage<80:\n",
    "      print(\"The Grade is B\")\n",
    "else:\n",
    "      print(\"The Grade is A\")"
   ]
  },
  {
   "cell_type": "raw",
   "metadata": {},
   "source": [
    "16) Take input of age of 3 people by user and determine oldest and youngest among them."
   ]
  },
  {
   "cell_type": "code",
   "execution_count": 17,
   "metadata": {},
   "outputs": [
    {
     "name": "stdout",
     "output_type": "stream",
     "text": [
      "Enter age1: 12\n",
      "Enter age2: 12\n",
      "Enter age3: 12\n",
      "They have same age\n"
     ]
    }
   ],
   "source": [
    "age1 = float(input(\"Enter age1: \"))\n",
    "age2 = float(input(\"Enter age2: \"))\n",
    "age3 = float(input(\"Enter age3: \"))\n",
    "\n",
    "if age1 > age2 and age1 > age3:\n",
    "    print(\"age1: oldest\")\n",
    "elif age2 > age3 and age2 > age1:\n",
    "    print(\"age2: oldest\")\n",
    "elif age3 > age2 and age3 > age1:\n",
    "    print(\"age3: oldest\")\n",
    "elif age1 < age2 and age1 < age3:\n",
    "    print(\"age1: youngest\")\n",
    "elif age2 < age3 and age2 < age1:\n",
    "    print(\"age2: youngest\")\n",
    "elif age3 < age2 and age3 < age1:\n",
    "    print(\"age3: youngest\")\n",
    "else: \n",
    "    print(\"They have same age\")\n",
    "    "
   ]
  },
  {
   "cell_type": "raw",
   "metadata": {},
   "source": [
    "17)A student will not be allowed to sit in exam if his/her attendence is less than 75%.\n",
    "\n",
    "Take following input from user\n",
    "\n",
    "Number of classes held\n",
    "\n",
    "Number of classes attended.\n",
    "\n",
    "And print\n",
    "\n",
    "percentage of class attended\n",
    "\n",
    "Is student is allowed to sit in exam or not.\n"
   ]
  },
  {
   "cell_type": "code",
   "execution_count": 19,
   "metadata": {},
   "outputs": [
    {
     "name": "stdout",
     "output_type": "stream",
     "text": [
      "Enter number of class held: 17\n",
      "Enter number of class attended: 14\n",
      "You are allowed in class\n"
     ]
    }
   ],
   "source": [
    "num_of_class_held = int(input(\"Enter number of class held: \"))\n",
    "num_of_class_attended = int(input(\"Enter number of class attended: \"))\n",
    "\n",
    "perc = num_of_class_attended*100/num_of_class_held\n",
    "\n",
    "if perc > 75:\n",
    "    print(\"You are allowed in class\")\n",
    "else: \n",
    "    print(\"Your attendence is too low, you are not allowed\")"
   ]
  },
  {
   "cell_type": "markdown",
   "metadata": {},
   "source": [
    "18) Modify the above question to allow student to sit if he/she has medical cause. Ask user if he/she has medical cause or not ( 'Y' or 'N' ) and print accordingly."
   ]
  },
  {
   "cell_type": "code",
   "execution_count": 22,
   "metadata": {},
   "outputs": [
    {
     "name": "stdout",
     "output_type": "stream",
     "text": [
      "Enter number of class held: 17\n",
      "Enter number of class attended: 12\n",
      "have you any medical cause: no\n",
      "Your attendence is too low, you are not allowed\n"
     ]
    }
   ],
   "source": [
    "num_of_class_held = int(input(\"Enter number of class held: \"))\n",
    "num_of_class_attended = int(input(\"Enter number of class attended: \"))\n",
    "\n",
    "perc = num_of_class_attended*100/num_of_class_held\n",
    "\n",
    "if perc > 75:\n",
    "    print(\"You are allowed in class\")\n",
    "else: \n",
    "    md_cause = input(\"have you any medical cause: \")\n",
    "    if md_cause == \"yes\":\n",
    "        print(\"Write an application to HOD Give permission from him in application, then you can sit in class...\")\n",
    "    else:   \n",
    "        print(\"Your attendence is too low, you are not allowed\")"
   ]
  },
  {
   "cell_type": "raw",
   "metadata": {},
   "source": [
    "19) Write a program to check if a year is leap year or not.\n",
    "\n",
    "If a year is divisible by 4 then it is leap year but if the year is century year like 2000, 1900, 2100 then it must be divisible by 400."
   ]
  },
  {
   "cell_type": "code",
   "execution_count": 25,
   "metadata": {},
   "outputs": [
    {
     "name": "stdout",
     "output_type": "stream",
     "text": [
      "Enter year: 1006\n",
      "This is not a leap year\n"
     ]
    }
   ],
   "source": [
    "year = int(input(\"Enter year: \"))\n",
    "\n",
    "if((year % 400 == 0) or  (year % 100 != 0) and  (year % 4 == 0)):   \n",
    "    print(\"This is a leap year\")\n",
    "else:\n",
    "    print(\"This is not a leap year\")"
   ]
  },
  {
   "cell_type": "raw",
   "metadata": {},
   "source": [
    "20) Ask user to enter age, gender ( M or F ), marital status ( Y or N ) and then using following rules print their place of service.\n",
    "\n",
    "if employee is female, then she will work only in urban areas.\n",
    "\n",
    "if employee is a male and age is in between 20 to 40 then he may work in anywhere\n",
    "\n",
    "if employee is male and age is in between 40 t0 60 then he will work in urban areas only.\n",
    "\n",
    "And any other input of age should print \"ERROR\""
   ]
  },
  {
   "cell_type": "code",
   "execution_count": 2,
   "metadata": {},
   "outputs": [
    {
     "name": "stdout",
     "output_type": "stream",
     "text": [
      "Enter Employe your details\n",
      "Enter your age: 34\n",
      "Enter your gender in ''M' or 'F' : M\n",
      "Enter your marital status in yes(if married) or no(not yet married): yes\n",
      "You  may work in anywhere\n"
     ]
    }
   ],
   "source": [
    "print(\"Enter Employe your details\")\n",
    "\n",
    "Age = int(input(\"Enter your age: \"))\n",
    "gender = input(\"Enter your gender in ''M' or 'F' : \")\n",
    "status = input(\"Enter your marital status in yes(if married) or no(not yet married): \")\n",
    "\n",
    "def check():\n",
    "    if gender == 'F':\n",
    "        print(\"you will work only in urban areas.\")\n",
    "    elif gender == 'M':\n",
    "        if Age >= 20 and Age <40:\n",
    "            print(\"You  may work in anywhere\")\n",
    "        elif Age >= 40 and Age <60:\n",
    "            print(\"you will work in urban areas only.\")\n",
    "        else: \n",
    "            print(\"ERROR\")\n",
    "    else:\n",
    "        print(\"You entered something wrong....\")\n",
    "check()"
   ]
  },
  {
   "cell_type": "code",
   "execution_count": null,
   "metadata": {},
   "outputs": [],
   "source": []
  }
 ],
 "metadata": {
  "kernelspec": {
   "display_name": "Python 3 (ipykernel)",
   "language": "python",
   "name": "python3"
  },
  "language_info": {
   "codemirror_mode": {
    "name": "ipython",
    "version": 3
   },
   "file_extension": ".py",
   "mimetype": "text/x-python",
   "name": "python",
   "nbconvert_exporter": "python",
   "pygments_lexer": "ipython3",
   "version": "3.9.7"
  }
 },
 "nbformat": 4,
 "nbformat_minor": 2
}
